{
 "cells": [
  {
   "cell_type": "code",
   "execution_count": 2,
   "id": "bbd073fa-9442-49a1-85d4-9d25c67e0513",
   "metadata": {},
   "outputs": [],
   "source": [
    "import numpy as np\n",
    "import re\n",
    "import os\n",
    "\n",
    "def load_observations(file_path):\n",
    "    with open(file_path, 'r') as file:\n",
    "        content = file.read().strip()\n",
    "    values = content[1:-1].split(',')\n",
    "    return np.array([float(val.strip()) for val in values])\n",
    "\n",
    "def load_queries(file_path):\n",
    "    with open(file_path, 'r') as file:\n",
    "        content = file.read()\n",
    "    array_strings = re.findall(r'array\\(\\[(.*?)\\]\\)', content, re.DOTALL)\n",
    "    return [np.array([float(num) for num in arr_str.replace('\\n', '').replace(' ', '').split(',') if num]) \n",
    "            for arr_str in array_strings]\n",
    "\n",
    "def save_arrays_as_npy(arrays, save_dir, prefix):\n",
    "    os.makedirs(save_dir, exist_ok=True)\n",
    "    for i, arr in enumerate(arrays, 1):\n",
    "        file_name = f\"{prefix}{i}.npy\"\n",
    "        file_path = os.path.join(save_dir, file_name)\n",
    "        np.save(file_path, arr)\n",
    "        print(f\"Saved {file_name}\")"
   ]
  },
  {
   "cell_type": "code",
   "execution_count": 4,
   "id": "9cadc89f-29ba-4d07-9b42-339cec6fe16d",
   "metadata": {},
   "outputs": [
    {
     "name": "stdout",
     "output_type": "stream",
     "text": [
      "Successfully loaded 8 query arrays.\n",
      "Saved f1.npy\n",
      "Saved f2.npy\n",
      "Saved f3.npy\n",
      "Saved f4.npy\n",
      "Saved f5.npy\n",
      "Saved f6.npy\n",
      "Saved f7.npy\n",
      "Saved f8.npy\n",
      "Successfully loaded 8 observation arrays.\n",
      "Saved f_y1.npy\n",
      "Saved f_y2.npy\n",
      "Saved f_y3.npy\n",
      "Saved f_y4.npy\n",
      "Saved f_y5.npy\n",
      "Saved f_y6.npy\n",
      "Saved f_y7.npy\n",
      "Saved f_y8.npy\n",
      "All arrays have been saved as .npy files.\n"
     ]
    }
   ],
   "source": [
    "# Set the week number\n",
    "num_week = 11\n",
    "\n",
    "# Set the save directory\n",
    "save_dir = f'results/week{num_week}'\n",
    "\n",
    "# Load and save queries\n",
    "queries_file = f'{save_dir}/queries.txt'\n",
    "query_arrays = load_queries(queries_file)\n",
    "\n",
    "print(f\"Successfully loaded {len(query_arrays)} query arrays.\")\n",
    "save_arrays_as_npy(query_arrays, save_dir, \"f\")\n",
    "\n",
    "# Load and save observations\n",
    "observations_file = f'{save_dir}/observations.txt'\n",
    "observations = load_observations(observations_file)\n",
    "\n",
    "# Split observations into individual arrays\n",
    "observation_arrays = [np.array([obs]) for obs in observations]\n",
    "\n",
    "print(f\"Successfully loaded {len(observation_arrays)} observation arrays.\")\n",
    "save_arrays_as_npy(observation_arrays, save_dir, \"f_y\")\n",
    "\n",
    "print(\"All arrays have been saved as .npy files.\")"
   ]
  },
  {
   "cell_type": "code",
   "execution_count": null,
   "id": "99e92a73-eaf0-4905-a69e-667686df6ce1",
   "metadata": {},
   "outputs": [],
   "source": []
  }
 ],
 "metadata": {
  "kernelspec": {
   "display_name": "Python 3 (ipykernel)",
   "language": "python",
   "name": "python3"
  },
  "language_info": {
   "codemirror_mode": {
    "name": "ipython",
    "version": 3
   },
   "file_extension": ".py",
   "mimetype": "text/x-python",
   "name": "python",
   "nbconvert_exporter": "python",
   "pygments_lexer": "ipython3",
   "version": "3.12.3"
  }
 },
 "nbformat": 4,
 "nbformat_minor": 5
}
